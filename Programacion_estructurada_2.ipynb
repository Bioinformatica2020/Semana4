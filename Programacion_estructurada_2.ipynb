{
 "cells": [
  {
   "cell_type": "markdown",
   "metadata": {},
   "source": [
    "# REPASO: bucle `for`, condicionales y expresiones regulares\n",
    "\n",
    "## <font color = blue>Expresiones regulares y sus aplicaciones</font>\n",
    "- ### Dominios de proteínas\n",
    "- ### Motivos de unión a DNA de factores de transcripción\n",
    "- ### Cortes de enzimas de restricción\n",
    "- ### Sitios de primers degenerados\n",
    "- ### Búsqueda de microsatélites\n",
    "<img src=\"https://raw.githubusercontent.com/Bioinformatica2020/Anexos/master/msatcommander.png\" width = 60%>\n",
    "\n",
    "https://www.ncbi.nlm.nih.gov/pubmed/21585724\n",
    "- ### Búsqueda de patrones para su aplicación en CRISPR\n",
    "<img src=\"https://raw.githubusercontent.com/Bioinformatica2020/Anexos/master/CRISPR.png\" width = 100%>\n",
    "\n",
    "https://journals.plos.org/plosone/article?id=10.1371/journal.pone.0119372"
   ]
  },
  {
   "cell_type": "code",
   "execution_count": null,
   "metadata": {},
   "outputs": [],
   "source": []
  },
  {
   "cell_type": "code",
   "execution_count": null,
   "metadata": {},
   "outputs": [],
   "source": [
    "from collections import Counter\n",
    "import matplotlib\n",
    "import matplotlib.pyplot as plt\n",
    "import re\n",
    "import urllib.request\n",
    "import seaborn as sns"
   ]
  },
  {
   "cell_type": "code",
   "execution_count": null,
   "metadata": {},
   "outputs": [],
   "source": [
    "sec = ['caagggatctatgatagaccac','tatgccctcgtctatacacctaggcgc','taagcgcatatctatcgcaaatccagtt',\n",
    "              'gtcttatgcctgtgtcaggatctacttcct','aaattagttttctgtgtttagagcacct','ggcctcacatgagtctacagacct',\n",
    "              'agtacccccatttgtcaagcg','ttaggggtatttacacagcccgcgtac','attggctcagaaccggagctatcaaggact',\n",
    "              'ttaccgtactcgcctca','ggtgaactccccctagtattgtgg','ttgctctggcggatttcttcaggc',\n",
    "              'ccagttataactcctgagtattct','gtcaatttgaatggggtttgac','tactccggtgtgatccattatggagat',\n",
    "              'acggtaaaacgatggacgttgtccca','ggcctcattctccttcccataa','gtacatggttctccccgcgatcat',\n",
    "              'ccatcgacaatgagctaaacctg','gctatgctgggtcctaccggcaacc','gcgtaactaatgagcatcctat',\n",
    "              'agagtaaaggtaatgggtggttat','ctaggtatcgactgtcgaataatccgtcc','catctgtatccc',\n",
    "              'cttgcccgtctacatggcctaggggca','tgctaaacggccacatcccaagaccctg','cccgaggcgacagttcatcgcccatgacg',\n",
    "              'acgcttgaccgtcagtgtaagtccg','gaatctcaaaacgcataatgccaata','aatgcgccagtgtaaaagtattgcggat',\n",
    "              'cgggagacaccttatgtcgcaagatct','ggaaccacatccataacacacgtctc','cacacactctttatcata',\n",
    "              'tacgcgtgct','cactttcgatag','gtgtggggttttggaacttcagaataga',\n",
    "              'gtggccagagcgcactatctagt','gccccccgattacgatacacgcctatgct','tcggtcacccatcacgtaaattggagtaat',\n",
    "              'gggttcgtcccccagttccctcttccc','ttgatggctaggtctgtcgatttaag','gtcttggctgtttccttggagtccgtc',\n",
    "              'aataggcgcgatgttgtgtgtcaat','acacgcaagccacgtcgtttgta','tacgtaggctgggctgtgcgattgcgtt',\n",
    "              'agcagtgggatttatagttattta','cgaaagcgaggccatcactggtgaa','gctatcatctggctacaaaaaatagacct',\n",
    "              'ttccccgtaggagaaccaagagaa','tagcgtgcgttctctactataaga']"
   ]
  },
  {
   "cell_type": "markdown",
   "metadata": {},
   "source": [
    "## <font color = red>Ejercicio:</font>\n",
    "### Usando la variable sec realiza las siguientes acciones para cada secuencia: \n",
    "\n",
    "- #### Imprime un contador, la longitud, cantidad de A, T, G y C, cantidad del patrón GC y la secuencia en mayúsculas"
   ]
  },
  {
   "cell_type": "code",
   "execution_count": null,
   "metadata": {},
   "outputs": [],
   "source": []
  },
  {
   "cell_type": "code",
   "execution_count": null,
   "metadata": {
    "scrolled": true
   },
   "outputs": [],
   "source": [
    "n = 1 \n",
    "for i in sec:\n",
    "    print(n, len(i), Counter(i), re.findall('gc', i), i.upper())\n",
    "    n += 1"
   ]
  },
  {
   "cell_type": "code",
   "execution_count": null,
   "metadata": {},
   "outputs": [],
   "source": []
  },
  {
   "cell_type": "code",
   "execution_count": null,
   "metadata": {
    "scrolled": true
   },
   "outputs": [],
   "source": [
    "n = 1 \n",
    "for i in sec:\n",
    "    print(n, len(i), 'a='+str(Counter(i)['a']),\n",
    "          't='+str(Counter(i)['t']), 'g='+str(Counter(i)['g']), 'c='+str(Counter(i)['c']),\n",
    "          re.findall('gc', i), i.upper())\n",
    "    n += 1"
   ]
  },
  {
   "cell_type": "code",
   "execution_count": null,
   "metadata": {},
   "outputs": [],
   "source": [
    "dict(Counter(i))"
   ]
  },
  {
   "cell_type": "code",
   "execution_count": null,
   "metadata": {},
   "outputs": [],
   "source": []
  },
  {
   "cell_type": "markdown",
   "metadata": {},
   "source": [
    "## <font color = red>Ejercicio:</font>\n",
    "### Usando la variable sec realiza las siguientes acciones solo para secuencias que tengan el patrón `GC`: \n",
    "\n",
    "- #### Imprime un contador, la longitud, cantidad de A, T, G y C, cantidad del patrón GC y la secuencia en mayúsculas"
   ]
  },
  {
   "cell_type": "code",
   "execution_count": null,
   "metadata": {},
   "outputs": [],
   "source": []
  },
  {
   "cell_type": "code",
   "execution_count": null,
   "metadata": {},
   "outputs": [],
   "source": []
  },
  {
   "cell_type": "code",
   "execution_count": null,
   "metadata": {},
   "outputs": [],
   "source": []
  },
  {
   "cell_type": "code",
   "execution_count": null,
   "metadata": {},
   "outputs": [],
   "source": []
  },
  {
   "cell_type": "code",
   "execution_count": null,
   "metadata": {},
   "outputs": [],
   "source": []
  },
  {
   "cell_type": "markdown",
   "metadata": {},
   "source": [
    "# <font color = blue>Porcentaje de GC (%)</font>\n",
    "\n"
   ]
  },
  {
   "cell_type": "code",
   "execution_count": null,
   "metadata": {},
   "outputs": [],
   "source": [
    "urllib.request.urlretrieve('https://raw.githubusercontent.com/biopython/biopython/master/Doc/examples/ls_orchid.fasta',\n",
    "                           '../descargas/ls_orchid.fasta')"
   ]
  },
  {
   "cell_type": "code",
   "execution_count": null,
   "metadata": {},
   "outputs": [],
   "source": [
    "fasta = open('../descargas/ls_orchid.fasta','r')\n",
    "fasta = fasta.read()\n",
    "fasta = re.sub('>.*','>', fasta)\n",
    "fasta = re.sub('\\n','', fasta)\n",
    "fasta = fasta.split('>')[1:]\n",
    "fasta"
   ]
  },
  {
   "cell_type": "code",
   "execution_count": null,
   "metadata": {
    "scrolled": true
   },
   "outputs": [],
   "source": [
    "gc_values = []\n",
    "for i in fasta:\n",
    "    G_per = (Counter(i)['G'] / sum(list(Counter(i).values()))) * 100\n",
    "    C_per = (Counter(i)['C'] / sum(list(Counter(i).values()))) * 100\n",
    "    gc_values.append(G_per + C_per)"
   ]
  },
  {
   "cell_type": "code",
   "execution_count": null,
   "metadata": {
    "scrolled": true
   },
   "outputs": [],
   "source": [
    "# ordenamos de menor a mayor los valores\n",
    "gc_values = sorted(gc_values)"
   ]
  },
  {
   "cell_type": "code",
   "execution_count": null,
   "metadata": {
    "scrolled": true
   },
   "outputs": [],
   "source": [
    "gc_values"
   ]
  },
  {
   "cell_type": "code",
   "execution_count": null,
   "metadata": {},
   "outputs": [],
   "source": [
    "fig, ax = plt.subplots(figsize=(6,4))\n",
    "\n",
    "ax.plot(range(len(gc_values)), gc_values, color='blue',linestyle='-',linewidth= 3, label='Orchid')\n",
    "\n",
    "plt.xlabel('Genes', fontsize=15)\n",
    "plt.ylabel('GC%', fontsize=15)\n",
    "plt.legend()\n",
    "\n",
    "#fig.savefig('../descargas/Contenido_GC.png',dpi = 900, bbox_inches='tight')\n",
    "plt.show()"
   ]
  },
  {
   "cell_type": "markdown",
   "metadata": {},
   "source": [
    "---\n",
    "## Se ha observado que el contenido de GC  es mayor en regiones codificantes que en el resto del genoma\n",
    "https://www.ncbi.nlm.nih.gov/pmc/articles/PMC3024870/\n",
    "## <font color = red>Ejercicio:</font>\n",
    "### Basado en este supuesto haz la comparación del contenido de GC entre secuencias promotoras y regiones codificantes de Saccharomyces cerevisiae.\n",
    "- #### Descarga los siguientes archivos:\n",
    "Regiones promotoras: https://raw.githubusercontent.com/Bioinformatica2020/tareas/master/S_cerevisiae_promoters-1_-500.fasta  \n",
    "Regiones codificantes: https://raw.githubusercontent.com/Bioinformatica2020/Anexos/master/S_cerevisiae_cds.fna\n",
    "\n",
    "- #### Guarda en una lista el contenido de GC de cada archivo\n",
    "   - `gc_values` y `gc_values_genes`\n",
    "- #### Después haz un gráfico que muestre el contenido de GC de ambas listas"
   ]
  },
  {
   "cell_type": "code",
   "execution_count": null,
   "metadata": {},
   "outputs": [],
   "source": []
  },
  {
   "cell_type": "code",
   "execution_count": null,
   "metadata": {},
   "outputs": [],
   "source": [
    "fasta = open('../descargas/S_cerevisiae_promoters-1_-500.fasta','r')\n",
    "fasta = fasta.read()\n",
    "fasta = re.sub('>.*','>', fasta)\n",
    "fasta = re.sub('\\n','', fasta)\n",
    "fasta = fasta.split('>')[1:]\n",
    "fasta"
   ]
  },
  {
   "cell_type": "code",
   "execution_count": null,
   "metadata": {},
   "outputs": [],
   "source": []
  },
  {
   "cell_type": "code",
   "execution_count": null,
   "metadata": {},
   "outputs": [],
   "source": []
  },
  {
   "cell_type": "code",
   "execution_count": null,
   "metadata": {},
   "outputs": [],
   "source": []
  },
  {
   "cell_type": "code",
   "execution_count": null,
   "metadata": {},
   "outputs": [],
   "source": [
    "fig, ax = plt.subplots(figsize=(6,4))\n",
    "\n",
    "ax.plot(range(len(gc_values)), # valores de X\n",
    "        gc_values, # valores de Y\n",
    "        color='blue', # color de la línea\n",
    "        linestyle='-', # estilo de la línea\n",
    "        linewidth= 3, # grosor de la línea\n",
    "        label='Promotores') # etiqueta de la línea\n",
    "ax.plot(range(len(gc_values_genes)),\n",
    "        gc_values_genes,\n",
    "        color='red',\n",
    "        linestyle='-',\n",
    "        linewidth= 3,\n",
    "        label='Genes')\n",
    "\n",
    "plt.xlabel('Genes', fontsize=15)\n",
    "plt.ylabel('GC%', fontsize=15)\n",
    "plt.legend()\n",
    "\n",
    "\n",
    "plt.show()"
   ]
  },
  {
   "cell_type": "markdown",
   "metadata": {},
   "source": [
    "### usando un bucle `for`"
   ]
  },
  {
   "cell_type": "code",
   "execution_count": null,
   "metadata": {},
   "outputs": [],
   "source": [
    "colores = ['blue','red']\n",
    "fig, ax = plt.subplots(figsize=(6,4))\n",
    "\n",
    "for i, j, k in zip([gc_values, gc_values_genes], ['Promotores', 'Genes'], colores):\n",
    "    ax.plot(range(len(i)), # valores de X\n",
    "            i, # valores de Y\n",
    "            label= j, # etiqueta de la línea\n",
    "            color= k, # color de la línea\n",
    "            linestyle='-', # estilo de la línea\n",
    "            linewidth= 3) # grosor de la línea\n",
    "        \n",
    "plt.xlabel('Genes', fontsize=15)\n",
    "plt.ylabel('GC%', fontsize=15)\n",
    "plt.legend()\n",
    "\n",
    "plt.show()"
   ]
  },
  {
   "cell_type": "markdown",
   "metadata": {},
   "source": [
    "---\n",
    "### La estimación de la densidad del kernel puede ser una herramienta útil para ver la distribución de los datos\n",
    "https://seaborn.pydata.org/tutorial/distributions.html"
   ]
  },
  {
   "cell_type": "code",
   "execution_count": null,
   "metadata": {},
   "outputs": [],
   "source": [
    "colores = ['blue','red']\n",
    "\n",
    "fig, ax = plt.subplots(figsize=(5,4))\n",
    "for i, j, k in zip([gc_values, gc_values_genes], ['Promotores', 'Genes'], colores):\n",
    "    print(j)\n",
    "    sns.distplot(i, hist=False, kde=True,\n",
    "                 label = j,\n",
    "                 color = k, # bins=200, \n",
    "                 hist_kws={'edgecolor':j},\n",
    "                 kde_kws={'linewidth': 3})\n",
    "\n",
    "plt.xlabel('GC%',size=12,fontweight='bold')\n",
    "plt.ylabel('Densidad',size=12,fontweight='bold')\n",
    "\n",
    "plt.gca().spines['right'].set_visible(False)\n",
    "plt.gca().spines['top'].set_visible(False)\n",
    "\n",
    "\n",
    "plt.show()"
   ]
  },
  {
   "cell_type": "code",
   "execution_count": null,
   "metadata": {},
   "outputs": [],
   "source": []
  },
  {
   "cell_type": "code",
   "execution_count": null,
   "metadata": {},
   "outputs": [],
   "source": []
  },
  {
   "cell_type": "code",
   "execution_count": null,
   "metadata": {},
   "outputs": [],
   "source": []
  },
  {
   "cell_type": "code",
   "execution_count": null,
   "metadata": {},
   "outputs": [],
   "source": []
  },
  {
   "cell_type": "markdown",
   "metadata": {},
   "source": [
    "### Muchas bases son determinadas como ambiguas y representadas por N\n",
    "https://www.ncbi.nlm.nih.gov/pmc/articles/PMC2865858/pdf/btq098.pdf\n",
    "\n",
    "#### Con el siguiente bucle encuentras aquellas bases ambiguas"
   ]
  },
  {
   "cell_type": "code",
   "execution_count": null,
   "metadata": {},
   "outputs": [],
   "source": [
    "dna = \"CGCTCNTAGATGCGCRATGACTGCAYTGCGAGAAAAGTABTTGACATGAGCGCTCCCWGGCACAAGGGCC\"  \n",
    " \n",
    "for m in re.finditer(\"[^ATGC]\", dna):\n",
    "    base = m.group() \n",
    "    pos  = m.start() \n",
    "    print(base + \" en la posición \" + str(pos + 1))"
   ]
  },
  {
   "cell_type": "code",
   "execution_count": null,
   "metadata": {},
   "outputs": [],
   "source": [
    "# \n",
    "m"
   ]
  },
  {
   "cell_type": "code",
   "execution_count": null,
   "metadata": {},
   "outputs": [],
   "source": [
    "# extraemos lo que hizo match\n",
    "m.group()"
   ]
  },
  {
   "cell_type": "code",
   "execution_count": null,
   "metadata": {},
   "outputs": [],
   "source": [
    "# con start() extraemos la posición inicial\n",
    "m.start()"
   ]
  },
  {
   "cell_type": "code",
   "execution_count": null,
   "metadata": {},
   "outputs": [],
   "source": [
    "# con end() extraemos la posición inicial\n",
    "m.end()"
   ]
  },
  {
   "cell_type": "code",
   "execution_count": null,
   "metadata": {},
   "outputs": [],
   "source": []
  },
  {
   "cell_type": "markdown",
   "metadata": {},
   "source": [
    "---\n",
    "# <font color = orange>C</font><font color = blue>o</font><font color = red>l</font><font color = green>o</font><font color = purple>r</font><font color = gold>e</font><font color = magenta>s</font>\n",
    "### <font color = black> compatibles con la función </font><font color = limegreen>print()</font>\n",
    "---"
   ]
  },
  {
   "cell_type": "code",
   "execution_count": null,
   "metadata": {
    "scrolled": true
   },
   "outputs": [],
   "source": [
    " \n",
    "# https://es.wikipedia.org/wiki/C%C3%B3digo_escape_ANSI\n",
    "COLORS = {'CEND':'\\33[0m','CBOLD':'\\33[1m','CITALIC':'\\33[3m','CURL':'\\33[4m','CBLINK':'\\33[5m',\n",
    "          'CBLINK2':'\\33[6m','CSELECTED':'\\33[7m','CBLACK':'\\33[30m','CRED':'\\33[31m',\n",
    "          'CGREEN':'\\33[32m','CYELLOW':'\\33[33m','CBLUE':'\\33[34m','CVIOLET':'\\33[35m',\n",
    "          'CBEIGE':'\\33[36m','CWHITE':'\\33[37m','CBLACKBG':'\\33[40m','CREDBG':'\\33[41m',\n",
    "          'CGREENBG':'\\33[42m','CYELLOWBG':'\\33[43m','CBLUEBG':'\\33[44m','CVIOLETBG':'\\33[45m',\n",
    "          'CBEIGEBG':'\\33[46m','CWHITEBG':'\\33[47m','CGREY':'\\33[90m','CRED2':'\\33[91m',\n",
    "          'CGREEN2':'\\33[92m','CYELLOW2':'\\33[93m','CBLUE2':'\\33[94m','CVIOLET2':'\\33[95m',\n",
    "          'CBEIGE2':'\\33[96m','CWHITE2':'\\33[97m','CGREYBG':'\\33[100m','CREDBG2':'\\33[101m',\n",
    "          'CGREENBG2':'\\33[102m','CYELLOWBG2':'\\33[103m','CBLUEBG2':'\\33[104m',\n",
    "          'CVIOLETBG2':'\\33[105m','CBEIGEBG2':'\\33[106m','CWHITEBG2':'\\33[107m',\n",
    "          'RED':'\\33[1;31m','BLUE':'\\33[1;34m','CYAN':'\\33[1;36m','GREEN':'\\33[0;32m',\n",
    "          'RESET':'\\33[0;0m','BOLD':'\\33[;1m','REVERSE':'\\33[;7m', 'HEADER':'\\033[95m'}\n",
    "print('\\nColores y códigos\\n')\n",
    "for i in COLORS:\n",
    "    print('Color:', COLORS[i]+i+'\\x1b[0m', 'Code:', COLORS[i]+'\\\\33['+re.search('[0-9].*|;.*',\n",
    "                                                                                COLORS[i]).group()+'\\x1b[0m')"
   ]
  },
  {
   "cell_type": "code",
   "execution_count": null,
   "metadata": {},
   "outputs": [],
   "source": []
  },
  {
   "cell_type": "code",
   "execution_count": null,
   "metadata": {},
   "outputs": [],
   "source": [
    "# ejemplo de cómo resaltar una salida de print\n",
    "print(COLORS['CREDBG']+'CREDBG'+COLORS['CEND'])"
   ]
  },
  {
   "cell_type": "code",
   "execution_count": null,
   "metadata": {},
   "outputs": [],
   "source": [
    "# ejemplo de cómo resaltar una salida de print\n",
    "print(COLORS['CYELLOWBG']+dna+COLORS['CEND'])"
   ]
  },
  {
   "cell_type": "code",
   "execution_count": null,
   "metadata": {},
   "outputs": [],
   "source": []
  },
  {
   "cell_type": "markdown",
   "metadata": {},
   "source": [
    "## <font color = red>Ejercicio:</font>\n",
    "- #### Copia y pega la siguiente línea en una celda \n",
    "\n",
    "\n",
    "accessions = ['xkn59438', 'yhdck2', 'eihd39d9', 'chdsye847', 'hedle3455', 'xjhd53e', '45da', 'de37dp']\n",
    "- #### Realiza un programa que imprima los siguientes criterios, tratar cada criterio por separado: \n",
    "\n",
    "\n",
    "- 1 contiene el número `5`\n",
    "- 2 contiene la letra `d` o `e`\n",
    "- 3 contiene las letras `d` y `e` en ese orden\n",
    "- 4 contiene las letras `d` y `e` en ese orden con una sola letra entre ellas\n",
    "- 5 contiene ambas letras `d` y `e` en cualquier orden\n",
    "- 6 inicia con `x` o `y`\n",
    "- 7 inicia con `x` o `y` y finaliza con `e`\n",
    "- 8 contiene tres o más dígitos\n",
    "- 9 finaliza con `d` seguida de `a`, `r` o `p`\n",
    "\n",
    "### La salida del programa debe ser así:\n",
    "<img src=\"https://raw.githubusercontent.com/Bioinformatica2020/Anexos/master/salidas_ejercicio_semana4.png\" width = 80%>"
   ]
  },
  {
   "cell_type": "code",
   "execution_count": null,
   "metadata": {},
   "outputs": [],
   "source": []
  },
  {
   "cell_type": "code",
   "execution_count": null,
   "metadata": {},
   "outputs": [],
   "source": []
  },
  {
   "cell_type": "code",
   "execution_count": null,
   "metadata": {},
   "outputs": [],
   "source": []
  },
  {
   "cell_type": "markdown",
   "metadata": {},
   "source": [
    "## Digestión doble de DNA\n",
    "\n",
    "### <font color = blue>Predecir la longitud de fragmentos de DNA cortados con las enzimas de restricción `AbcI` la cual corta en el sitio `ANT^AAT`, y `AbcII`, la cual corta en `GCRW^TG`</font>\n",
    "El acento circunflejo indica la posición del corte\n",
    "\n",
    "**`N` = A, C, G o T/U**\t\n",
    "**`R` = A o G (purinas)**   \n",
    "**`W` = interacción débil A o T/U**\n",
    "\n",
    "<img src=\"https://raw.githubusercontent.com/Bioinformatica2020/Anexos/master/digestion.png\" width = 80%>\n",
    "\n",
    "#### degeneración de codones\n",
    "https://www.ncbi.nlm.nih.gov/pmc/articles/PMC2865858/pdf/btq098.pdf"
   ]
  },
  {
   "cell_type": "code",
   "execution_count": null,
   "metadata": {},
   "outputs": [],
   "source": [
    "seq = 'ATGGCAATAACCCCCCGTTTCTACTTCTAGAGGAGAAAAGTATTGACATGAGCGCTCCCGGCACAAGGGCCAAAGAAGTCTCCAATTTCTTATTT'\\\n",
    "'CCGAATGACATGCGTCTCCTTGCGGGTAAATCACCGACCGCAATTCATAGAAGCCTGGGGGAACAGATAGGTCTAATTAGCTTAAGAGAGTAAATCCTGGGA'\\\n",
    "'TCATTCAGTAGTAACCATAAACTTACGCTGGGGCTTCTTCGGCGGATTTTTACAGTTACCAACCAGGAGATTTGAAGTAAATCAGTTGAGGATTTAGCCGCG'\\\n",
    "'CTATCCGGTAATCTCCAAATTAAAACATACCGTTCCATGAAGGCTAGAATTACTTACCGGCCTTTTCCATGCCTGCGCTATACCCCCCCACTCTCCCGCTTAT'\\\n",
    "'CCGTCCGAGCGGAGGCAGTGCGATCCTCCGTTAAGATATTCTTACGTGTGACGTAGCTATGTATTTTGCAGAGCTGGCGAACGCGTTGAACACTTCACAGATG'\\\n",
    "'GTAGGGATTCGGGTAAAGGGCGTATAATTGGGGACTAACATAGGCGTAGACTACGATGGCGCCAACTCAATCGCAGCTCGAGCGCCCTGAATAACGTACTCATC'\\\n",
    "'TCAACTCATTCTCGGCAATCTACCGAGCGACTCGATTATCAACGGCTGTCTAGCAGTTCTAATCTTTTGCCAGCATCGTAATAGCCTCCAAGAGATTGATGATA'\\\n",
    "'GCTATCGGCACAGAACTGAGACGGCGCCGATGGATAGCGGACTTTCGGTCAACCACAATTCCCCACGGGACAGGTCCTGCGGTGCGCATCACTCTGAATGTACA'\\\n",
    "'AGCAACCCAAGTGGGCCGAGCCTGGACTCAGCTGGTTCCTGCGTGAGCTCGAGACTCGGGATGACAGCTCTTTAAACATAGAGCGGGGGCGTCGAACGGTCGAGA'\\\n",
    "'AAGTCATAGTACCTCGGGTACCAACTTACTCAGGTTATTGCTTGAAGCTGTACTATTTTAGGGGGGGAGCGCTGAAGGTCTCTTCTTCTCATGACTGAACTCGCGA'\\\n",
    "'GGGTCGTGAAGTCGGTTCCTTCAATGGTTAAAAAACAAAGGCTTACTGTGCGCAGAGGAACGCCCATCTAGCGGCTGGCGTCTTGAATGCTCGGTCCCCTTTGTCA'\\\n",
    "'TTCCGGATTAATCCATTTCCCTCATTCACGAGCTTGCGAAGTCTACATTGGTATATGAATGCGACCTAGAAGAGGGCGCTTAAAATTGGCAGTGGTTGATGCTCTA'\\\n",
    "'AACTCCATTTGGTTTACTCGTGCATCACCGCGATAGGCTGACAAAGGTTTAACATTGAATAGCAAGGCACTTCCGGTCTCAATGAACGGCCGGGAAAGGTACGCGC'\\\n",
    "'GCGGTATGGGAGGATCAAGGGGCCAATAGAGAGGCTCCTCTCTCACTCGCTAGGAGGCAAATGTAAAACAATGGTTACTGCATCGATACATAAAACATGTCCATCGGT'\\\n",
    "'TGCCCAAAGTGTTAAGTGTCTATCACCCCTAGGGCCGTTTCCCGCATATAAACGCCAGGTTGTATCCGCATTTGATGCTACCGTGGATGAGTCTGCGTCGAGCGCGCC'\\\n",
    "'GCACGAATGTTGCAATGTATTGCATGAGTAGGGTTGACTAAGAGCCGTTAGATGCGTCGCTGTACTAATAGTTGTCGACAGACCGTCGAGATTAGAAAATGGTACCAG'\\\n",
    "'CATTTTCGGAGGTTCTCTAACTAGTATGGATTGCGGTGTCTTCACTGTGCTGCGGCTACCCATCGCCTGAAATCCAGCTGGTGTCAAGCCATCCCCTCTCCGGGACGC'\\\n",
    "'CGCATGTAGTGAAACATATACGTTGCACGGGTTCACCGCGGTCCGTTCTGAGTCGACCAAGGACACAATCGAGCTCCGATCCGTACCCTCGACAAACTTGTACCCGAC'\\\n",
    "'CCCCGGAGCTTGCCAGCTCCTCGGGTATCATGGAGCCTGTGGTTCATCGCGTCCGATATCAAACTTCGTCATGATAAAGTCCCCCCCTCGGGAGTACCAGAGAAGATG'\\\n",
    "'ACTACTGAGTTGTGCGAT'"
   ]
  },
  {
   "cell_type": "code",
   "execution_count": null,
   "metadata": {},
   "outputs": [],
   "source": [
    "len(seq)"
   ]
  },
  {
   "cell_type": "code",
   "execution_count": null,
   "metadata": {},
   "outputs": [],
   "source": []
  },
  {
   "cell_type": "code",
   "execution_count": null,
   "metadata": {},
   "outputs": [],
   "source": [
    "AbcI = 'A[ATGC]TAAT'"
   ]
  },
  {
   "cell_type": "code",
   "execution_count": null,
   "metadata": {},
   "outputs": [],
   "source": [
    "print(\"AbcI corta en:\")\n",
    "for m in re.finditer(AbcI, seq):\n",
    "    print(m)"
   ]
  },
  {
   "cell_type": "code",
   "execution_count": null,
   "metadata": {},
   "outputs": [],
   "source": [
    "print(\"AbcI corta en:\")\n",
    "for m in re.finditer(AbcI, seq):\n",
    "    print(m.start() + 3)"
   ]
  },
  {
   "cell_type": "code",
   "execution_count": null,
   "metadata": {},
   "outputs": [],
   "source": [
    "cortes = [0]\n",
    "for m in re.finditer(AbcI, seq):\n",
    "    cortes.append(m.start() + 3) # por iteraciones agregamos las posiciones donde corta la enzima\n",
    "cortes.append(len(seq)) # anexamos la longitus de la secuencia\n",
    "print(cortes) # finalmente nos muestra los tres fragmentos que se generan"
   ]
  },
  {
   "cell_type": "code",
   "execution_count": null,
   "metadata": {},
   "outputs": [],
   "source": [
    "cortes"
   ]
  },
  {
   "cell_type": "code",
   "execution_count": null,
   "metadata": {},
   "outputs": [],
   "source": [
    "for i in range(len(cortes) - 1):\n",
    "    print('Un fragmento es de:', cortes[i + 1] - cortes[i])"
   ]
  },
  {
   "cell_type": "code",
   "execution_count": null,
   "metadata": {},
   "outputs": [],
   "source": []
  },
  {
   "cell_type": "markdown",
   "metadata": {},
   "source": [
    "### AbcI = ANT*AAT"
   ]
  },
  {
   "cell_type": "code",
   "execution_count": null,
   "metadata": {},
   "outputs": [],
   "source": [
    "print('\\n', AbcI,'\\n')\n",
    "print(COLORS['CREDBG']+seq[:1143]+COLORS['CEND'],\n",
    "      COLORS['CGREENBG']+seq[1143:1628]+COLORS['CEND'],\n",
    "      COLORS['CYELLOWBG']+seq[1628:]+COLORS['CEND'])"
   ]
  },
  {
   "cell_type": "code",
   "execution_count": null,
   "metadata": {},
   "outputs": [],
   "source": []
  },
  {
   "cell_type": "markdown",
   "metadata": {},
   "source": [
    "### AbcII = GCRW*TG"
   ]
  },
  {
   "cell_type": "code",
   "execution_count": null,
   "metadata": {},
   "outputs": [],
   "source": [
    "AbcII = 'GC[AG][AT]TG'"
   ]
  },
  {
   "cell_type": "code",
   "execution_count": null,
   "metadata": {},
   "outputs": [],
   "source": [
    "print(\"AbcII corta en:\")\n",
    "for m in re.finditer(AbcII, seq):\n",
    "    print(m)"
   ]
  },
  {
   "cell_type": "code",
   "execution_count": null,
   "metadata": {},
   "outputs": [],
   "source": [
    "print(\"AbcII corta en:\")\n",
    "for m in re.finditer(AbcII, seq):\n",
    "    print(m.start() + 4)"
   ]
  },
  {
   "cell_type": "code",
   "execution_count": null,
   "metadata": {},
   "outputs": [],
   "source": [
    "cortes1 = [1]\n",
    "for m in re.finditer(AbcII, seq):\n",
    "    cortes1.append(m.start()  + 4)\n",
    "cortes1.append(len(seq))\n",
    "print(cortes1)"
   ]
  },
  {
   "cell_type": "code",
   "execution_count": null,
   "metadata": {},
   "outputs": [],
   "source": [
    "for i in range(len(cortes1) - 1):\n",
    "    print('Un fragmento es de:', cortes1[i + 1] - cortes1[i])"
   ]
  },
  {
   "cell_type": "code",
   "execution_count": null,
   "metadata": {},
   "outputs": [],
   "source": [
    "print('\\n', AbcII,'\\n')\n",
    "print(COLORS['CREDBG']+seq[:488]+COLORS['CEND'],\n",
    "      COLORS['CGREENBG']+seq[488:1577]+COLORS['CEND'],\n",
    "      COLORS['CYELLOWBG']+seq[1577:]+COLORS['CEND'])"
   ]
  },
  {
   "cell_type": "code",
   "execution_count": null,
   "metadata": {},
   "outputs": [],
   "source": []
  },
  {
   "cell_type": "markdown",
   "metadata": {},
   "source": [
    "### Qué pasa si juntamos las 2 enzimas"
   ]
  },
  {
   "cell_type": "code",
   "execution_count": null,
   "metadata": {},
   "outputs": [],
   "source": [
    "cortes2 = [1]\n",
    "for m in re.finditer(AbcI, seq):\n",
    "    cortes2.append(m.start() + 3)\n",
    "for m in re.finditer(AbcII, seq):\n",
    "    cortes2.append(m.start() + 4)\n",
    "cortes2.append(len(seq))\n",
    "cortes2 = sorted(cortes2)\n",
    "print(cortes2)"
   ]
  },
  {
   "cell_type": "code",
   "execution_count": null,
   "metadata": {},
   "outputs": [],
   "source": [
    "for i in range(len(cortes2) - 1):\n",
    "    print('Un fragmento es de:', cortes2[i + 1] - cortes2[i])"
   ]
  },
  {
   "cell_type": "code",
   "execution_count": null,
   "metadata": {
    "scrolled": true
   },
   "outputs": [],
   "source": []
  },
  {
   "cell_type": "code",
   "execution_count": null,
   "metadata": {},
   "outputs": [],
   "source": [
    "print('\\nAbcI/AbcII\\n')\n",
    "print(COLORS['CREDBG']+seq[:488]+COLORS['CEND']+'\\n\\n',\n",
    "      COLORS['CGREENBG']+seq[488:1143]+COLORS['CEND']+'\\n\\n',\n",
    "      COLORS['CYELLOWBG']+seq[1143:1577]+COLORS['CEND']+'\\n\\n',\n",
    "      COLORS['CBLUEBG']+seq[1577:1628]+COLORS['CEND']+'\\n\\n',\n",
    "      COLORS['CVIOLETBG']+seq[1628:]+COLORS['CEND']+'\\n\\n')"
   ]
  },
  {
   "cell_type": "code",
   "execution_count": null,
   "metadata": {},
   "outputs": [],
   "source": []
  },
  {
   "cell_type": "code",
   "execution_count": null,
   "metadata": {},
   "outputs": [],
   "source": []
  },
  {
   "cell_type": "code",
   "execution_count": null,
   "metadata": {},
   "outputs": [],
   "source": []
  },
  {
   "cell_type": "code",
   "execution_count": null,
   "metadata": {},
   "outputs": [],
   "source": []
  },
  {
   "cell_type": "code",
   "execution_count": null,
   "metadata": {},
   "outputs": [],
   "source": []
  },
  {
   "cell_type": "code",
   "execution_count": null,
   "metadata": {},
   "outputs": [],
   "source": []
  },
  {
   "cell_type": "code",
   "execution_count": null,
   "metadata": {},
   "outputs": [],
   "source": []
  },
  {
   "cell_type": "code",
   "execution_count": null,
   "metadata": {},
   "outputs": [],
   "source": []
  },
  {
   "cell_type": "code",
   "execution_count": null,
   "metadata": {},
   "outputs": [],
   "source": []
  },
  {
   "cell_type": "code",
   "execution_count": null,
   "metadata": {},
   "outputs": [],
   "source": []
  },
  {
   "cell_type": "code",
   "execution_count": null,
   "metadata": {},
   "outputs": [],
   "source": []
  }
 ],
 "metadata": {
  "kernelspec": {
   "display_name": "Python 3",
   "language": "python",
   "name": "python3"
  },
  "language_info": {
   "codemirror_mode": {
    "name": "ipython",
    "version": 3
   },
   "file_extension": ".py",
   "mimetype": "text/x-python",
   "name": "python",
   "nbconvert_exporter": "python",
   "pygments_lexer": "ipython3",
   "version": "3.7.5"
  }
 },
 "nbformat": 4,
 "nbformat_minor": 4
}
